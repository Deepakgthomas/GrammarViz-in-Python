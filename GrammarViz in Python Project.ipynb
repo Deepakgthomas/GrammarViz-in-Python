{
 "cells": [
  {
   "cell_type": "code",
   "execution_count": 5,
   "metadata": {},
   "outputs": [],
   "source": [
    "import numpy as np\n",
    "import pandas as pd\n",
    "from saxpy.sax import sax_via_window"
   ]
  },
  {
   "cell_type": "code",
   "execution_count": 37,
   "metadata": {},
   "outputs": [],
   "source": [
    "dat_1=pd.read_csv(r\"C:\\Users\\U374235\\Documents\\grammarviz2_src-master\\data\\ecg0606_1.csv\")\n",
    "dat_1=dat_1.values.reshape(len(dat_1),)\n",
    "sax1 = sax_via_window(dat_1, 170, 3, 3, \"none\", 0.01)"
   ]
  }
 ],
 "metadata": {
  "kernelspec": {
   "display_name": "Python 3",
   "language": "python",
   "name": "python3"
  },
  "language_info": {
   "codemirror_mode": {
    "name": "ipython",
    "version": 3
   },
   "file_extension": ".py",
   "mimetype": "text/x-python",
   "name": "python",
   "nbconvert_exporter": "python",
   "pygments_lexer": "ipython3",
   "version": "3.5.6"
  }
 },
 "nbformat": 4,
 "nbformat_minor": 2
}
